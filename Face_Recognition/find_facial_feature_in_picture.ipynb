{
 "cells": [
  {
   "cell_type": "code",
   "execution_count": 1,
   "metadata": {},
   "outputs": [],
   "source": [
    "from PIL import Image, ImageDraw\n",
    "import face_recognition"
   ]
  },
  {
   "cell_type": "code",
   "execution_count": 5,
   "metadata": {},
   "outputs": [
    {
     "name": "stdout",
     "output_type": "stream",
     "text": [
      "I found 1 face(s) in this photograph.\n"
     ]
    }
   ],
   "source": [
    "image = face_recognition.load_image_file('test_images/Jun.png')\n",
    "\n",
    "face_landmarks_list = face_recognition.face_landmarks(image)\n",
    "\n",
    "print(\"I found {} face(s) in this photograph.\".format(len(face_landmarks_list)))"
   ]
  },
  {
   "cell_type": "code",
   "execution_count": 7,
   "metadata": {},
   "outputs": [
    {
     "name": "stdout",
     "output_type": "stream",
     "text": [
      "The chin in this face has the following points: [(715, 470), (714, 498), (716, 525), (722, 552), (733, 577), (750, 597), (775, 611), (801, 622), (828, 626), (856, 623), (880, 613), (903, 598), (919, 579), (929, 555), (935, 531), (938, 506), (936, 481)]\n",
      "The left_eyebrow in this face has the following points: [(741, 429), (758, 417), (778, 414), (798, 417), (815, 427)]\n",
      "The right_eyebrow in this face has the following points: [(848, 431), (865, 424), (883, 420), (901, 423), (914, 434)]\n",
      "The nose_bridge in this face has the following points: [(832, 456), (832, 472), (832, 489), (831, 506)]\n",
      "The nose_tip in this face has the following points: [(811, 527), (821, 529), (830, 530), (840, 529), (850, 528)]\n",
      "The left_eye in this face has the following points: [(760, 456), (772, 449), (786, 451), (798, 461), (785, 462), (771, 461)]\n",
      "The right_eye in this face has the following points: [(861, 463), (873, 453), (887, 453), (898, 461), (888, 465), (874, 465)]\n",
      "The top_lip in this face has the following points: [(794, 564), (810, 557), (822, 551), (830, 554), (839, 552), (851, 559), (865, 567), (860, 567), (839, 564), (830, 564), (822, 563), (799, 564)]\n",
      "The bottom_lip in this face has the following points: [(865, 567), (851, 574), (839, 577), (830, 578), (821, 576), (809, 572), (794, 564), (799, 564), (822, 564), (830, 565), (839, 564), (860, 567)]\n"
     ]
    }
   ],
   "source": [
    "pil_image = Image.fromarray(image)\n",
    "d = ImageDraw.Draw(pil_image)\n",
    "\n",
    "for face_landmarks in face_landmarks_list:\n",
    "    for facial_feature in face_landmarks.keys():\n",
    "         print(\"The {} in this face has the following points: {}\".format(facial_feature, face_landmarks[facial_feature]))\n",
    "         \n",
    "    for facial_feature in face_landmarks.keys():\n",
    "        d.line(face_landmarks[facial_feature], width=5)\n",
    "             \n",
    "pil_image.show()"
   ]
  }
 ],
 "metadata": {
  "kernelspec": {
   "display_name": "Python 3",
   "language": "python",
   "name": "python3"
  },
  "language_info": {
   "codemirror_mode": {
    "name": "ipython",
    "version": 3
   },
   "file_extension": ".py",
   "mimetype": "text/x-python",
   "name": "python",
   "nbconvert_exporter": "python",
   "pygments_lexer": "ipython3",
   "version": "undefined.undefined.undefined"
  }
 },
 "nbformat": 4,
 "nbformat_minor": 2
}
