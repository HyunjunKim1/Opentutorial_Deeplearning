{
 "cells": [
  {
   "cell_type": "code",
   "execution_count": 2,
   "metadata": {},
   "outputs": [],
   "source": [
    "from PIL import Image, ImageDraw\n",
    "import face_recognition"
   ]
  },
  {
   "cell_type": "code",
   "execution_count": 6,
   "metadata": {},
   "outputs": [
    {
     "name": "stdout",
     "output_type": "stream",
     "text": [
      "I found 1 face(s) in this photograph.\n"
     ]
    }
   ],
   "source": [
    "image = face_recognition.load_image_file('test_images/Jun1.jpg')\n",
    "\n",
    "face_landmarks_list = face_recognition.face_landmarks(image)\n",
    "\n",
    "print(\"I found {} face(s) in this photograph.\".format(len(face_landmarks_list)))"
   ]
  },
  {
   "cell_type": "code",
   "execution_count": 9,
   "metadata": {},
   "outputs": [
    {
     "name": "stdout",
     "output_type": "stream",
     "text": [
      "The chin in this face has the following points: [(550, 310), (548, 329), (548, 349), (549, 370), (554, 391), (566, 406), (585, 416), (608, 421), (634, 423), (661, 422), (687, 419), (710, 411), (725, 397), (733, 378), (737, 358), (740, 338), (742, 318)]\n",
      "The left_eyebrow in this face has the following points: [(568, 272), (578, 257), (594, 249), (612, 248), (629, 253)]\n",
      "The right_eyebrow in this face has the following points: [(655, 253), (674, 248), (693, 251), (710, 261), (720, 277)]\n",
      "The nose_bridge in this face has the following points: [(642, 277), (640, 285), (639, 293), (637, 302)]\n",
      "The nose_tip in this face has the following points: [(620, 328), (628, 329), (637, 329), (646, 330), (656, 330)]\n",
      "The left_eye in this face has the following points: [(582, 290), (592, 283), (603, 283), (615, 289), (604, 290), (592, 291)]\n",
      "The right_eye in this face has the following points: [(668, 290), (681, 285), (692, 286), (702, 293), (691, 293), (680, 292)]\n",
      "The top_lip in this face has the following points: [(602, 367), (616, 352), (629, 344), (636, 346), (644, 345), (657, 353), (671, 368), (665, 366), (644, 358), (636, 358), (628, 358), (608, 365)]\n",
      "The bottom_lip in this face has the following points: [(671, 368), (656, 370), (644, 370), (635, 370), (627, 370), (615, 370), (602, 367), (608, 365), (628, 359), (635, 359), (644, 359), (665, 366)]\n"
     ]
    }
   ],
   "source": [
    "pil_image = Image.fromarray(image)\n",
    "d = ImageDraw.Draw(pil_image)\n",
    "\n",
    "for face_landmarks in face_landmarks_list:\n",
    "    for facial_feature in face_landmarks.keys():\n",
    "         print(\"The {} in this face has the following points: {}\".format(facial_feature, face_landmarks[facial_feature]))\n",
    "         \n",
    "    for facial_feature in face_landmarks.keys():\n",
    "        d.line(face_landmarks[facial_feature], width=5)\n",
    "             \n",
    "pil_image.show()"
   ]
  }
 ],
 "metadata": {
  "kernelspec": {
   "display_name": "Python 3",
   "language": "python",
   "name": "python3"
  },
  "language_info": {
   "codemirror_mode": {
    "name": "ipython",
    "version": 3
   },
   "file_extension": ".py",
   "mimetype": "text/x-python",
   "name": "python",
   "nbconvert_exporter": "python",
   "pygments_lexer": "ipython3",
   "version": "3.12.2"
  }
 },
 "nbformat": 4,
 "nbformat_minor": 2
}
