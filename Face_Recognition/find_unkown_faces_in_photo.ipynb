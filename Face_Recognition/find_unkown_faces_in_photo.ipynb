{
 "cells": [
  {
   "cell_type": "code",
   "execution_count": 1,
   "metadata": {},
   "outputs": [
    {
     "ename": "",
     "evalue": "",
     "output_type": "error",
     "traceback": [
      "\u001b[1;31mThe Kernel crashed while executing code in the current cell or a previous cell. \n",
      "\u001b[1;31mPlease review the code in the cell(s) to identify a possible cause of the failure. \n",
      "\u001b[1;31mClick <a href='https://aka.ms/vscodeJupyterKernelCrash'>here</a> for more info. \n",
      "\u001b[1;31mView Jupyter <a href='command:jupyter.viewOutput'>log</a> for further details."
     ]
    }
   ],
   "source": [
    "import face_recognition\n",
    "\n",
    "Jun  = face_recognition.load_image_file(\"test_images/Jun.png\")  \n",
    "Jun1 = face_recognition.load_image_file(\"test_images/Jun1.jpg\")\n",
    "Jun2 = face_recognition.load_image_file(\"test_images/Jun2.png\")\n",
    "\n",
    "try:\n",
    "    Jun_face_encoding = face_recognition.face_encodings(Jun)[0]\n",
    "    Jun1_face_encoding = face_recognition.face_\n",
    "    \n",
    "except IndexError:\n",
    "    print(\"I wasn't able to locate any face in at least one of the images.\")\n",
    "    quit()"
   ]
  }
 ],
 "metadata": {
  "kernelspec": {
   "display_name": "Python 3",
   "language": "python",
   "name": "python3"
  },
  "language_info": {
   "codemirror_mode": {
    "name": "ipython",
    "version": 3
   },
   "file_extension": ".py",
   "mimetype": "text/x-python",
   "name": "python",
   "nbconvert_exporter": "python",
   "pygments_lexer": "ipython3",
   "version": "undefined.undefined.undefined"
  }
 },
 "nbformat": 4,
 "nbformat_minor": 2
}
