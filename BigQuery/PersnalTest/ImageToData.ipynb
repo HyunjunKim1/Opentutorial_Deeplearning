{
 "cells": [
  {
   "cell_type": "code",
   "execution_count": 2,
   "metadata": {},
   "outputs": [],
   "source": [
    "import cv2\n",
    "import pytesseract as pt\n",
    "import pandas as pd\n",
    "\n",
    "pt.pytesseract.tesseract_cmd = r'D:\\Tesseract-OCR\\tesseract.exe'\n",
    "image_path = 'D:\\Tesseract-OCR\\TestImage.png'\n",
    "image = cv2.imread(image_path)\n"
   ]
  },
  {
   "cell_type": "code",
   "execution_count": 8,
   "metadata": {},
   "outputs": [
    {
     "name": "stdout",
     "output_type": "stream",
     "text": [
      "X축 값이 x_axis_values.xlsx에 저장되었습니다.\n"
     ]
    }
   ],
   "source": [
    "gray = cv2.cvtColor(image, cv2.COLOR_BGR2GRAY)\n",
    "\n",
    "custom_config = r'--oem 3 --psm 6'\n",
    "text = pt.image_to_string(gray, config=custom_config)\n",
    "\n",
    "x_values = [value.strip() for value in text.split() if value.strip().isdigit()]\n",
    "\n",
    "df = pd.DataFrame(x_values, columns=['x-axis Values'])\n",
    "\n",
    "output_excel_path = 'x_axis_values.xlsx'\n",
    "df.to_excel(output_excel_path, index=False)\n",
    "\n",
    "print(f'X축 값이 {output_excel_path}에 저장되었습니다.')"
   ]
  }
 ],
 "metadata": {
  "kernelspec": {
   "display_name": "Python 3",
   "language": "python",
   "name": "python3"
  },
  "language_info": {
   "codemirror_mode": {
    "name": "ipython",
    "version": 3
   },
   "file_extension": ".py",
   "mimetype": "text/x-python",
   "name": "python",
   "nbconvert_exporter": "python",
   "pygments_lexer": "ipython3",
   "version": "3.11.9"
  }
 },
 "nbformat": 4,
 "nbformat_minor": 2
}
